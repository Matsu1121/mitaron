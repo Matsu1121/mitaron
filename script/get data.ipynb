{
 "cells": [
  {
   "cell_type": "code",
   "execution_count": 1,
   "metadata": {},
   "outputs": [],
   "source": [
    "import pandas as pd\n",
    "import numpy as np\n",
    "import yfinance as yf\n",
    "from tqdm import tqdm\n",
    "\n",
    "from datetime import datetime\n",
    "\n",
    "import warnings\n",
    "warnings.simplefilter('ignore')"
   ]
  },
  {
   "cell_type": "code",
   "execution_count": 2,
   "metadata": {},
   "outputs": [],
   "source": [
    "pd.set_option('display.max_rows', 10)\n",
    "pd.set_option('display.max_columns', None)"
   ]
  },
  {
   "cell_type": "code",
   "execution_count": 3,
   "metadata": {},
   "outputs": [],
   "source": [
    "# 検証期間 JPX日経中小型株指数連動ETF上場 ~ 2022/7/29まで 1300営業日\n",
    "start = datetime(2017, 4, 3)\n",
    "end = datetime(2022, 8, 1)"
   ]
  },
  {
   "cell_type": "code",
   "execution_count": 4,
   "metadata": {},
   "outputs": [
    {
     "name": "stdout",
     "output_type": "stream",
     "text": [
      "[*********************100%***********************]  1 of 1 completed\n"
     ]
    }
   ],
   "source": [
    "nikkei = yf.download('^N225', start=start, end=end, adjusted=True)\n",
    "nikkei.index = nikkei.index.tz_localize(None)\n",
    "nikkei = nikkei[(nikkei.index>=start) & (nikkei.index<end)].sort_index()[['Adj Close']]\n",
    "nikkei = nikkei.rename(columns={'Adj Close':'Nikkei225'})"
   ]
  },
  {
   "cell_type": "code",
   "execution_count": 5,
   "metadata": {},
   "outputs": [
    {
     "name": "stdout",
     "output_type": "stream",
     "text": [
      "[*********************100%***********************]  1 of 1 completed\n"
     ]
    }
   ],
   "source": [
    "# MAXIS JPX日経インデックス400上場投信\n",
    "nk400 = yf.download('1593.T', start=start, end=end, adjusted=True)\n",
    "nk400.index = nk400.index.tz_localize(None)\n",
    "nk400 = nk400[(nk400.index>=start) & (nk400.index<end)].sort_index()[['Adj Close']]\n",
    "nk400 = nk400.rename(columns={'Adj Close':'Index'})\n",
    "nk400 = pd.concat([nikkei, nk400['Index']], axis=1, join='inner')"
   ]
  },
  {
   "cell_type": "code",
   "execution_count": 6,
   "metadata": {},
   "outputs": [
    {
     "name": "stdout",
     "output_type": "stream",
     "text": [
      "[*********************100%***********************]  1 of 1 completed\n"
     ]
    }
   ],
   "source": [
    "# MAXIS JPX日経中小型株指数上場投信\n",
    "nk200 = yf.download('1492.T', start, end, adjusted=True)\n",
    "nk200.index = nk200.index.tz_localize(None)\n",
    "nk200 = nk200[(nk200.index>=start) & (nk200.index<end)].sort_index()[['Adj Close']]\n",
    "nk200 = nk200.rename(columns={'Adj Close':'Index'})\n",
    "nk200 = pd.concat([nikkei, nk200], axis=1, join='inner')"
   ]
  },
  {
   "cell_type": "code",
   "execution_count": 7,
   "metadata": {},
   "outputs": [],
   "source": [
    "# CSVを読み込み、指数構成銘柄のリストを作成\n",
    "nk400_code = pd.read_csv('../constituent_stocks/jpx_nikkei_index_400_weight_jp.csv', encoding='shift-jis')['コード'][:-1].tolist()\n",
    "nk200_code = pd.read_csv('../constituent_stocks/jpx_nikkei_mid_small_weight_jp.csv', encoding='shift-jis')['コード'][:-1].tolist()"
   ]
  },
  {
   "cell_type": "code",
   "execution_count": 8,
   "metadata": {},
   "outputs": [],
   "source": [
    "# 個別銘柄の株価を取得してリストに格納する関数\n",
    "def list_company_stock_price(code, df_list):\n",
    "    df = yf.download(f'{int(code)}.T', start, end, adjusted=True, progress=False)[['Adj Close']]\n",
    "    df.index = df.index.tz_localize(None)\n",
    "    df = df.rename(columns={'Adj Close':code})\n",
    "    df_list.append(df)"
   ]
  },
  {
   "cell_type": "code",
   "execution_count": 9,
   "metadata": {},
   "outputs": [],
   "source": [
    "# 個別銘柄の株価を格納する list\n",
    "nk400_df_list = []\n",
    "nk200_df_list = []"
   ]
  },
  {
   "cell_type": "code",
   "execution_count": 10,
   "metadata": {
    "tags": []
   },
   "outputs": [
    {
     "name": "stderr",
     "output_type": "stream",
     "text": [
      "100%|████████████████████████████████████████████████████████████████████████████████| 400/400 [02:51<00:00,  2.33it/s]\n"
     ]
    }
   ],
   "source": [
    "# 日経400 構成銘柄の株価を取得してリストに格納\n",
    "for code in tqdm(nk400_code):\n",
    "    list_company_stock_price(code, nk400_df_list)"
   ]
  },
  {
   "cell_type": "code",
   "execution_count": 11,
   "metadata": {},
   "outputs": [
    {
     "name": "stderr",
     "output_type": "stream",
     "text": [
      "100%|████████████████████████████████████████████████████████████████████████████████| 400/400 [02:33<00:00,  2.60it/s]\n"
     ]
    }
   ],
   "source": [
    "# 日経中小型 構成銘柄の株価を取得してリストに格納\n",
    "for code in tqdm(nk400_code):\n",
    "    list_company_stock_price(code, nk200_df_list)"
   ]
  },
  {
   "cell_type": "code",
   "execution_count": 12,
   "metadata": {},
   "outputs": [],
   "source": [
    "# 結合して一つの DataFrame に\n",
    "nk400_dfs = pd.concat(nk400_df_list, axis=1)\n",
    "nk200_dfs = pd.concat(nk200_df_list, axis=1)"
   ]
  },
  {
   "cell_type": "code",
   "execution_count": 13,
   "metadata": {},
   "outputs": [],
   "source": [
    "# インデックスと結合\n",
    "nk400 = pd.merge(nk400, nk400_dfs, left_index=True, right_index=True, how='left')\n",
    "nk200 = pd.merge(nk200, nk200_dfs, left_index=True, right_index=True, how='left')"
   ]
  },
  {
   "cell_type": "code",
   "execution_count": 14,
   "metadata": {},
   "outputs": [],
   "source": [
    "nk400.to_csv('../stock_data/nk400.csv')\n",
    "nk200.to_csv('../stock_data/nk200.csv')"
   ]
  }
 ],
 "metadata": {
  "kernelspec": {
   "display_name": "Python 3",
   "language": "python",
   "name": "python3"
  },
  "language_info": {
   "codemirror_mode": {
    "name": "ipython",
    "version": 3
   },
   "file_extension": ".py",
   "mimetype": "text/x-python",
   "name": "python",
   "nbconvert_exporter": "python",
   "pygments_lexer": "ipython3",
   "version": "3.8.8"
  }
 },
 "nbformat": 4,
 "nbformat_minor": 4
}
