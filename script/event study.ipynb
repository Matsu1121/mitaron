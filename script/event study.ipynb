{
 "cells": [
  {
   "cell_type": "code",
   "execution_count": null,
   "metadata": {},
   "outputs": [],
   "source": [
    "# talib のインストールが難しく Docker 上でしか動かせられない\n",
    "# 2023/2/27 変更、 Docker の起動ができず、デバッグできていない"
   ]
  },
  {
   "cell_type": "code",
   "execution_count": null,
   "metadata": {},
   "outputs": [],
   "source": [
    "import pandas as pd\n",
    "import numpy as np\n",
    "import talib as ta\n",
    "\n",
    "import warnings\n",
    "warnings.simplefilter('ignore')"
   ]
  },
  {
   "cell_type": "code",
   "execution_count": null,
   "metadata": {},
   "outputs": [],
   "source": [
    "pd.set_option('display.max_rows', 10)\n",
    "pd.set_option('display.max_columns', None)"
   ]
  },
  {
   "cell_type": "code",
   "execution_count": null,
   "metadata": {},
   "outputs": [],
   "source": [
    "nk400 = pd.read_csv('../stock_data/nk400.csv', index_col='Date')\n",
    "nk200 = pd.read_csv('../stock_data/nk200.csv', index_col='Date')\n",
    "\n",
    "# index を datetime に\n",
    "nk400.index = pd.to_datetime(nk400.index)\n",
    "nk200.index = pd.to_datetime(nk200.index)"
   ]
  },
  {
   "cell_type": "code",
   "execution_count": null,
   "metadata": {},
   "outputs": [],
   "source": [
    "# CSVを読み込み、指数構成銘柄のリストを作成\n",
    "nk400_code = pd.read_csv('../constituent_stocks/jpx_nikkei_index_400_weight_jp.csv', encoding='shift-jis')['コード'][:-1].tolist()\n",
    "nk200_code = pd.read_csv('../constituent_stocks/jpx_nikkei_mid_small_weight_jp.csv', encoding='shift-jis')['コード'][:-1].tolist()"
   ]
  },
  {
   "cell_type": "code",
   "execution_count": null,
   "metadata": {},
   "outputs": [],
   "source": [
    "# 基準は timeperiod=20, nbdevup=2, nbdevdn=2, matype=0\n",
    "param_list = [[20, 2, 2, 0], [20, 1, 1, 0], [20, 2, 2, 1], [20, 3, 3, 0]]"
   ]
  },
  {
   "cell_type": "code",
   "execution_count": null,
   "metadata": {},
   "outputs": [],
   "source": [
    "# 個別銘柄のボリンジャーバンドの作成、個別・市場リターンの計算\n",
    "# 週ごとについても行う\n",
    "# DataFrameを返す\n",
    "\n",
    "# timeperiod 計算期間\n",
    "# nbdevup、nbdevdn 上側、下側バンドの σ\n",
    "# matype 0 単純移動平均線   1 指数平滑移動平均線   2 加重移動平均線\n",
    "\n",
    "def company_stock(code, index_df):\n",
    "    df_d = index_df[['Index', code]].dropna()\n",
    "    \n",
    "    price=df_d[code]\n",
    "    index_=df_d['Index']\n",
    "    # ボリンジャーバンドの作成\n",
    "    df_d['upper'], df_d['middle'], df_d['lower'] = ta.BBANDS(price, timeperiod=timeperiod, nbdevup=nbdevup, nbdevdn=nbdevdn, matype=matype)\n",
    "    # 個別リターン\n",
    "    df_d['r_i'] = (price-price.shift())/price.shift()\n",
    "    # 市場リターン\n",
    "    df_d['r_m'] = (index_-index_.shift())/index_.shift()\n",
    "\n",
    "    # 週ごとにも集計を行う\n",
    "    df_w = df_d.resample('W', loffset=pd.offsets.timedelta()).agg({'close': 'last'}).droplevel(0, axis=1)\n",
    "    # 2019年、改元の際、１日も取引がない週があったのでそれを除く（除かないとボリンジャーバンドが正しく出ない）\n",
    "    df_w = df_w.dropna()\n",
    "\n",
    "    # 週ごとも同様に\n",
    "    price=df_w[code]\n",
    "    index_=df_w['Index']\n",
    "    # ボリンジャーバンドの作成\n",
    "    df_w['upper'], df_w['middle'], df_w['lower'] = ta.BBANDS(price, timeperiod=timeperiod, nbdevup=nbdevup, nbdevdn=nbdevdn, matype=matype)\n",
    "    # 個別リターン\n",
    "    df_w['r_i'] = (price-price.shift())/price.shift()\n",
    "    # 市場リターン\n",
    "    df_w['r_m'] = (index_-index_.shift())/index_.shift()\n",
    "    \n",
    "    return df_d, df_w"
   ]
  },
  {
   "cell_type": "code",
   "execution_count": null,
   "metadata": {},
   "outputs": [],
   "source": [
    "# イベントウィンドウ：イベント日後５日（週）\n",
    "# 推定期間：イベント日を t=0 とし、-155≦ t ≦-6 の150営業日（週）\n",
    "# 推定期間が足りない場合は除外する"
   ]
  },
  {
   "cell_type": "code",
   "execution_count": null,
   "metadata": {},
   "outputs": [],
   "source": [
    "# 特定銘柄について、全期間のDataFrameとイベント日を渡すとイベント日後５日の ARの list を返す関数\n",
    "def get_ar(df_all, event_date):\n",
    "    #df_all = df_all\n",
    "    # イベント日をもとにtを決定する\n",
    "    t_list = list(range(-len(df_all.loc[:event_date])+1, 0)) + list(range(0, len(df_all.loc[event_date:])))\n",
    "    df_all['t'] = t_list\n",
    "\n",
    "    # tの最小が-156以下（推定期間が十分）であり (最小が-155だと最初はリターンが NaNになるので不適)\n",
    "    # tの最大値が 5以上（イベントウィンドウが十分）である ならば、イベントスタディを行う\n",
    "    if (df_all.iloc[0]['t'] <= -156) & (df_all.iloc[-1]['t']>=5):\n",
    "\n",
    "        # 推定期間からマーケットモデルを作成\n",
    "        estimation = df_all[(-155<=df_all['t']) & (df_all['t']<=-6)]\n",
    "\n",
    "        x = estimation[\"r_m\"]\n",
    "        y = estimation[\"r_i\"]\n",
    "\n",
    "        #単回帰分析モデルの作成\n",
    "        beta, alpha = np.polyfit(x, y, 1)\n",
    "\n",
    "        # ベンチマーク\n",
    "        df_all['r_e'] = alpha + beta*df_all['r_m']\n",
    "\n",
    "        # ARの計算\n",
    "        df_all['ar'] = df_all['r_i']-df_all['r_e']\n",
    "\n",
    "        # 1≦t≦5 におけるAR\n",
    "        event_window_df = df_all[(1<=df_all['t']) & (df_all['t']<=5)]\n",
    "        ar_list = list(event_window_df['ar'])\n",
    "        \n",
    "    else:\n",
    "        ar_list = [None]*5\n",
    "        \n",
    "    return ar_list"
   ]
  },
  {
   "cell_type": "code",
   "execution_count": null,
   "metadata": {},
   "outputs": [],
   "source": [
    "# 結果をリストに格納する関数\n",
    "def store_result(upper_or_lower, data_list, df_all):\n",
    "    for event_date in upper_or_lower.index:\n",
    "        data_list.append([code, event_date] + get_ar(df_all, event_date))"
   ]
  },
  {
   "cell_type": "code",
   "execution_count": null,
   "metadata": {},
   "outputs": [],
   "source": [
    "# listをDataFrameにまとめてCSVに書き出す関数\n",
    "def to_dataframe(data, csv_name):\n",
    "    data = pd.DataFrame(data, columns=['code', 'date', 'ar1', 'ar2', 'ar3', 'ar4', 'ar5'])\n",
    "\n",
    "    # CAR算出\n",
    "    data['car1'] = data['ar1']\n",
    "    data['car2'] = data['car1'] + data['ar2']\n",
    "    data['car3'] = data['car2'] + data['ar3']\n",
    "    data['car4'] = data['car3'] + data['ar4']\n",
    "    data['car5'] = data['car4'] + data['ar5']\n",
    "\n",
    "    data.to_csv(f'../output/{timeperiod}_{nbdevup}_{nbdevdn}_{matype}/{csv_name}.csv', encoding='shift-jis')"
   ]
  },
  {
   "cell_type": "code",
   "execution_count": null,
   "metadata": {},
   "outputs": [],
   "source": [
    "def event_study(param):\n",
    "    timeperiod, nbdevup, nbdevdn, matype = param\n",
    "\n",
    "    # 格納するリスト\n",
    "    nk400_d_upper = []\n",
    "    nk400_d_lower = []\n",
    "    nk400_w_upper = []\n",
    "    nk400_w_lower = []\n",
    "\n",
    "    for code in nk400_code:\n",
    "        code = str(int(code))\n",
    "\n",
    "        df_d, df_w = company_stock(code, nk400)\n",
    "\n",
    "        d_upper = df_d[df_d[code]>df_d['upper']]\n",
    "        d_lower = df_d[df_d[code]<df_d['lower']]\n",
    "\n",
    "        w_upper = df_w[df_w[code]>df_w['upper']]\n",
    "        w_lower = df_w[df_w[code]<df_w['lower']]\n",
    "\n",
    "        store_result(d_upper, nk400_d_upper, df_d)\n",
    "        store_result(d_lower, nk400_d_lower, df_d)\n",
    "        store_result(w_upper, nk400_w_upper, df_w)\n",
    "        store_result(w_lower, nk400_w_lower, df_w)\n",
    "\n",
    "    # 格納するリスト\n",
    "    nk200_d_upper = []\n",
    "    nk200_d_lower = []\n",
    "    nk200_w_upper = []\n",
    "    nk200_w_lower = []\n",
    "\n",
    "    for code in nk200_code:\n",
    "        code = str(int(code))\n",
    "\n",
    "        df_d, df_w = company_stock(code, nk200)\n",
    "\n",
    "        d_upper = df_d[df_d[code]>df_d['upper']]\n",
    "        d_lower = df_d[df_d[code]<df_d['lower']]\n",
    "\n",
    "        w_upper = df_w[df_w[code]>df_w['upper']]\n",
    "        w_lower = df_w[df_w[code]<df_w['lower']]\n",
    "\n",
    "        store_result(d_upper, nk200_d_upper, df_d)\n",
    "        store_result(d_lower, nk200_d_lower, df_d)\n",
    "        store_result(w_upper, nk200_w_upper, df_w)\n",
    "        store_result(w_lower, nk200_w_lower, df_w)\n",
    "\n",
    "    data_list = [nk400_d_upper, nk400_d_lower, nk400_w_upper, nk400_w_lower,\n",
    "                  nk200_d_upper, nk200_d_lower, nk200_w_upper, nk200_w_lower]\n",
    "    name_list = ['nk400_d_upper', 'nk400_d_lower', 'nk400_w_upper', 'nk400_w_lower',\n",
    "                  'nk200_d_upper', 'nk200_d_lower', 'nk200_w_upper', 'nk200_w_lower']\n",
    "    for i in range(0, len(data_list)):\n",
    "        to_dataframe(data_list[i], name_list[i])"
   ]
  },
  {
   "cell_type": "code",
   "execution_count": null,
   "metadata": {},
   "outputs": [],
   "source": [
    "# 各パラメータについてイベントスタディを実行\n",
    "for param in param_list:\n",
    "    event_study(param)"
   ]
  }
 ],
 "metadata": {
  "kernelspec": {
   "display_name": "Python 3",
   "language": "python",
   "name": "python3"
  },
  "language_info": {
   "codemirror_mode": {
    "name": "ipython",
    "version": 3
   },
   "file_extension": ".py",
   "mimetype": "text/x-python",
   "name": "python",
   "nbconvert_exporter": "python",
   "pygments_lexer": "ipython3",
   "version": "3.8.8"
  }
 },
 "nbformat": 4,
 "nbformat_minor": 4
}
